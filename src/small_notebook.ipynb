{
 "cells": [
  {
   "cell_type": "code",
   "execution_count": 59,
   "metadata": {},
   "outputs": [],
   "source": [
    "from lark import Lark, Token\n",
    "from lark.tree import Tree\n",
    "from typing import Callable, List, TypeAlias\n",
    "from rich import print as rich_print\n",
    "from contextlib import redirect_stdout\n",
    "\n",
    "State: TypeAlias = Callable\n",
    "\n",
    "grammar = None\n",
    "with open('small.lark') as f:\n",
    "    grammar = f.read()\n",
    "\n",
    "parser = Lark(grammar, start='program', parser='lalr')\n",
    "\n",
    "program = None\n",
    "with open ('program.small') as f:\n",
    "    program = f.read()\n",
    "\n",
    "tree = parser.parse(program)\n",
    "\n",
    "with open('program.small.tree', 'w') as out:\n",
    "        print(tree.pretty(), file=out)\n",
    "        #print(rich_print(tree))\n",
    "    #out.write(tree.pretty())\n"
   ]
  },
  {
   "cell_type": "code",
   "execution_count": 60,
   "metadata": {},
   "outputs": [],
   "source": [
    "def printToken(token: Token, state: State):\n",
    "    match token.type:\n",
    "        case 'IDENTIFIER':\n",
    "            print(state(token))\n",
    "        case 'NUMBER':\n",
    "            print(token.value)\n",
    "        case 'STRING':\n",
    "            print(eval(token.value))"
   ]
  },
  {
   "cell_type": "code",
   "execution_count": 64,
   "metadata": {},
   "outputs": [],
   "source": [
    "def printArgs(args: List[Token|Tree], state: State):\n",
    "    for arg in args:\n",
    "        printToken(arg, state)"
   ]
  },
  {
   "cell_type": "code",
   "execution_count": 65,
   "metadata": {},
   "outputs": [
    {
     "name": "stdout",
     "output_type": "stream",
     "text": [
      "Hello, World\n",
      "!\n",
      "20\n",
      "21\n",
      "27\n",
      "2\n",
      "4\n",
      "6\n",
      "8\n",
      "10\n"
     ]
    }
   ],
   "source": [
    "def evalExpression(expression: Token | Tree, state: State):\n",
    "        typeof_exp: Token | Tree = type(expression)\n",
    "        \n",
    "        if typeof_exp == Token:\n",
    "            match expression.type:\n",
    "                 case 'NUMBER':\n",
    "                    return int(expression.value)\n",
    "                 case 'IDENTIFIER':\n",
    "                    return state(expression)\n",
    "            \n",
    "        elif typeof_exp == Tree:\n",
    "             e1, e2 = expression.children\n",
    "             e1, e2 = evalExpression(e1, state), evalExpression(e2, state)\n",
    "             match expression.data:\n",
    "                 case 'add':  return e1 + e2\n",
    "                 case 'sub':  return e1 - e2\n",
    "                 case 'mul':  return e1 * e2\n",
    "                 case 'div':  return e1 / e2\n",
    "                 case 'mod':  return e1 % e2\n",
    "                 case 'idiv': return e1 // e2\n",
    "\n",
    "def evalLogic(expression: Token | Tree, state: State):\n",
    "    if expression.data == 'true':  return True\n",
    "    elif expression.data == 'false': return False\n",
    "    elif expression.data == 'logical_not': return not evalLogic(expression.children[0], state)\n",
    "    else:\n",
    "        e1, e2 = expression.children\n",
    "        e1, e2 = evalExpression(e1, state), evalExpression(e2, state)\n",
    "        match expression.data:\n",
    "            case 'logical_and': return e1 and e2\n",
    "            case 'logical_or': return e1 or e2\n",
    "            case 'logical_lt': return e1 < e2\n",
    "            case 'logical_gt': return e1 > e2\n",
    "            case 'logical_eq': return e1 == e2\n",
    "            case 'logical_neq': return e1 != e2\n",
    "            case 'logical_leq': return e1 <= e2\n",
    "            case 'logical_geq': return e1 >= e2\n",
    "                 \n",
    "def evalProgram(tree, state: State =  lambda _: 0):\n",
    "    match tree.data:\n",
    "        case 'break':\n",
    "            return state\n",
    "        case 'skip': # skip\n",
    "            return state\n",
    "        \n",
    "        case 'assignment': # x := E\n",
    "            x, E = tree.children\n",
    "            value = evalExpression(E, state)\n",
    "            return (lambda IDENTIFIER: value if (IDENTIFIER == x) else state(IDENTIFIER))\n",
    "        \n",
    "        case 'print': #\n",
    "            for expression in tree.children:\n",
    "                if type(expression) == Token:\n",
    "                    printToken(expression, state)\n",
    "                elif \"args\" in expression.data:\n",
    "                    printArgs(expression.children, state) # FIXME\n",
    "                elif \"logical\" in expression.data: print(evalLogic(expression, state))\n",
    "                else: print(evalExpression(expression, state))\n",
    "            return state\n",
    "        \n",
    "        case 'concat': # S1; S2\n",
    "            S1, S2 = tree.children\n",
    "            return evalProgram(S2, evalProgram(S1, state))\n",
    "        \n",
    "        case 'while':\n",
    "            guard, SW = tree.children\n",
    "            new_state = state\n",
    "            while evalLogic(guard, new_state):\n",
    "                new_state = evalProgram(SW, new_state)\n",
    "                # This is kinda sketchy\n",
    "                if \"break\" in str(SW): break\n",
    "                \n",
    "            return new_state\n",
    "        \n",
    "        case 'conditional':\n",
    "            guard, s1, s2 = tree.children\n",
    "            logic = evalLogic(guard, state)\n",
    "            if logic: return evalProgram(s1, state)\n",
    "            else: return evalProgram(s2, state)\n",
    "        \n",
    "        \n",
    "         \n",
    "evalProgram(tree);"
   ]
  },
  {
   "cell_type": "code",
   "execution_count": 56,
   "metadata": {},
   "outputs": [
    {
     "name": "stdout",
     "output_type": "stream",
     "text": [
      "abc\n"
     ]
    }
   ],
   "source": [
    "eval('print(\"abc\")')"
   ]
  }
 ],
 "metadata": {
  "kernelspec": {
   "display_name": "Python 3",
   "language": "python",
   "name": "python3"
  },
  "language_info": {
   "codemirror_mode": {
    "name": "ipython",
    "version": 3
   },
   "file_extension": ".py",
   "mimetype": "text/x-python",
   "name": "python",
   "nbconvert_exporter": "python",
   "pygments_lexer": "ipython3",
   "version": "3.10.1"
  },
  "orig_nbformat": 4,
  "vscode": {
   "interpreter": {
    "hash": "369f2c481f4da34e4445cda3fffd2e751bd1c4d706f27375911949ba6bb62e1c"
   }
  }
 },
 "nbformat": 4,
 "nbformat_minor": 2
}
